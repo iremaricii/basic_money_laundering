{
  "nbformat": 4,
  "nbformat_minor": 0,
  "metadata": {
    "colab": {
      "provenance": [],
      "machine_shape": "hm",
      "gpuType": "T4",
      "authorship_tag": "ABX9TyOY5rixF/BKm54GYz76NkcQ",
      "include_colab_link": true
    },
    "kernelspec": {
      "name": "python3",
      "display_name": "Python 3"
    },
    "language_info": {
      "name": "python"
    },
    "accelerator": "GPU"
  },
  "cells": [
    {
      "cell_type": "markdown",
      "metadata": {
        "id": "view-in-github",
        "colab_type": "text"
      },
      "source": [
        "<a href=\"https://colab.research.google.com/github/iremaricii/basic_money_laundering/blob/main/basic_money_laundering.ipynb\" target=\"_parent\"><img src=\"https://colab.research.google.com/assets/colab-badge.svg\" alt=\"Open In Colab\"/></a>"
      ]
    },
    {
      "cell_type": "code",
      "source": [
        "!pip install -q kaggle\n",
        "\n",
        "!mkdir -p ~/.kaggle\n",
        "!cp kaggle.json ~/.kaggle/\n",
        "!chmod 600 ~/.kaggle/kaggle.json"
      ],
      "metadata": {
        "id": "9WWTz4tjU0_v"
      },
      "execution_count": 4,
      "outputs": []
    },
    {
      "cell_type": "code",
      "source": [
        "!kaggle datasets download -d ealtman2019/ibm-transactions-for-anti-money-laundering-aml\n",
        "\n",
        "!unzip ibm-transactions-for-anti-money-laundering-aml.zip"
      ],
      "metadata": {
        "id": "Avplc-36U7_F"
      },
      "execution_count": null,
      "outputs": []
    },
    {
      "cell_type": "code",
      "source": [
        "!mkdir dataset\n",
        "!mv HI-Large_Trans.csv dataset/\n",
        "!mv HI-Large_Patterns.txt dataset/\n",
        "!mv HI-Medium_Patterns.txt dataset/\n",
        "!mv HI-Medium_Trans.csv dataset/\n",
        "!mv HI-Small_Patterns.txt dataset/\n",
        "!mv HI-Small_Trans.csv dataset/\n",
        "!mv LI-Medium_Patterns.txt dataset/\n",
        "!mv LI-Medium_Trans.csv dataset/\n",
        "!mv LI-Small_Patterns.txt dataset/\n",
        "!mv LI-Small_Trans.csv dataset/"
      ],
      "metadata": {
        "collapsed": true,
        "id": "pBgdcS4yVFjJ"
      },
      "execution_count": null,
      "outputs": []
    },
    {
      "cell_type": "code",
      "source": [
        "import pandas as pd"
      ],
      "metadata": {
        "id": "RLlGSP2JfzmU"
      },
      "execution_count": 17,
      "outputs": []
    },
    {
      "cell_type": "code",
      "source": [
        "df=pd.read_csv(\"/content/dataset/HI-Medium_Trans.csv\")"
      ],
      "metadata": {
        "id": "8nj-wlB55_pP"
      },
      "execution_count": 18,
      "outputs": []
    },
    {
      "cell_type": "code",
      "source": [
        "df.head()"
      ],
      "metadata": {
        "id": "za_od6Vk6J8y"
      },
      "execution_count": null,
      "outputs": []
    },
    {
      "cell_type": "code",
      "source": [
        "df.info()"
      ],
      "metadata": {
        "id": "5AyenSKw6MHB"
      },
      "execution_count": null,
      "outputs": []
    },
    {
      "cell_type": "code",
      "source": [
        "df.drop_duplicates(inplace=True) #DataFrame'deki tekrar eden satırları tespit edip siler."
      ],
      "metadata": {
        "id": "HSJKJiVF7H1u"
      },
      "execution_count": 21,
      "outputs": []
    },
    {
      "cell_type": "code",
      "source": [
        "from sklearn.model_selection import train_test_split\n",
        "from sklearn.preprocessing import StandardScaler\n",
        "from sklearn.metrics import classification_report, confusion_matrix\n",
        "from sklearn.utils import shuffle\n",
        "import tensorflow as tf\n",
        "from tensorflow.keras.models import Sequential\n",
        "from tensorflow.keras.layers import Dense"
      ],
      "metadata": {
        "id": "hoKmjsebhYk5"
      },
      "execution_count": null,
      "outputs": []
    },
    {
      "cell_type": "code",
      "source": [
        "data = pd.read_csv(\"/content/dataset/HI-Medium_Trans.csv\")"
      ],
      "metadata": {
        "id": "xYu1oM_ehaEl"
      },
      "execution_count": null,
      "outputs": []
    },
    {
      "cell_type": "code",
      "source": [
        "# Pozitif örneklerin tamamını al\n",
        "positive = data[data[\"Is Laundering\"] == 1]\n",
        "\n",
        "# Negatif örnekleri, pozitif sayısına eşitle\n",
        "negative = data[data[\"Is Laundering\"] == 0].sample(n=len(positive), random_state=42)"
      ],
      "metadata": {
        "id": "Q2AjGu2RhgbV"
      },
      "execution_count": null,
      "outputs": []
    },
    {
      "cell_type": "code",
      "source": [
        "# Yeni dengeli veri setini oluştur\n",
        "balanced_data = shuffle(pd.concat([positive, negative]), random_state=42)"
      ],
      "metadata": {
        "id": "2ei2VkOshiG_"
      },
      "execution_count": null,
      "outputs": []
    },
    {
      "cell_type": "code",
      "source": [
        "# Sayısal olmayan sütunları çıkar\n",
        "X = balanced_data.select_dtypes(include=['number']).drop('Is Laundering', axis=1)\n",
        "y = balanced_data[\"Is Laundering\"]"
      ],
      "metadata": {
        "id": "_mDgwcg8hkvF"
      },
      "execution_count": null,
      "outputs": []
    },
    {
      "cell_type": "code",
      "source": [
        "X_train, X_test, y_train, y_test = train_test_split(\n",
        "    X, y, test_size=0.25, random_state=42, stratify=y\n",
        ")"
      ],
      "metadata": {
        "id": "BLQ-240IhmNl"
      },
      "execution_count": null,
      "outputs": []
    },
    {
      "cell_type": "code",
      "source": [
        "scaler = StandardScaler()\n",
        "X_train = scaler.fit_transform(X_train)\n",
        "X_test = scaler.transform(X_test)"
      ],
      "metadata": {
        "id": "o1rsa7b1hnMW"
      },
      "execution_count": null,
      "outputs": []
    },
    {
      "cell_type": "code",
      "source": [
        "model = Sequential([\n",
        "    Dense(16, activation='relu'),\n",
        "    Dense(8, activation='relu'),\n",
        "    Dense(1, activation='sigmoid')\n",
        "])\n",
        "\n",
        "model.compile(optimizer='adam', loss='binary_crossentropy', metrics=['accuracy'])"
      ],
      "metadata": {
        "id": "-LiuOsgMhok4"
      },
      "execution_count": null,
      "outputs": []
    },
    {
      "cell_type": "code",
      "source": [
        "model.fit(X_train, y_train, epochs=20, batch_size=32, validation_data=(X_test, y_test))"
      ],
      "metadata": {
        "id": "YRuQLxSZhqq1"
      },
      "execution_count": null,
      "outputs": []
    },
    {
      "cell_type": "code",
      "source": [
        "y_pred = (model.predict(X_test) > 0.5).astype(\"int32\")\n",
        "print(\"\\nClassification Report:\\n\", classification_report(y_test, y_pred))\n",
        "print(\"Confusion Matrix:\\n\", confusion_matrix(y_test, y_pred))\n",
        "\n",
        "#Kod, modelin test verilerindeki tahminlerini 0.5 eşiğiyle ikili sınıflara çevirip performansını raporlar."
      ],
      "metadata": {
        "colab": {
          "base_uri": "https://localhost:8080/"
        },
        "id": "xAaOhczl-ay2",
        "outputId": "fdbc33f8-7dd3-437f-f016-896dad7245ca"
      },
      "execution_count": 26,
      "outputs": [
        {
          "output_type": "stream",
          "name": "stdout",
          "text": [
            "\u001b[1m551/551\u001b[0m \u001b[32m━━━━━━━━━━━━━━━━━━━━\u001b[0m\u001b[37m\u001b[0m \u001b[1m1s\u001b[0m 1ms/step\n",
            "\n",
            "Classification Report:\n",
            "               precision    recall  f1-score   support\n",
            "\n",
            "           0       0.60      0.61      0.60      8808\n",
            "           1       0.60      0.60      0.60      8807\n",
            "\n",
            "    accuracy                           0.60     17615\n",
            "   macro avg       0.60      0.60      0.60     17615\n",
            "weighted avg       0.60      0.60      0.60     17615\n",
            "\n",
            "Confusion Matrix:\n",
            " [[5331 3477]\n",
            " [3499 5308]]\n"
          ]
        }
      ]
    }
  ]
}